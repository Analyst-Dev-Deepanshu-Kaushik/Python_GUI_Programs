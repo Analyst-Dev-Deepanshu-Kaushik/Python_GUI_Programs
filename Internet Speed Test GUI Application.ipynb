{
 "cells": [
  {
   "cell_type": "markdown",
   "id": "21ea3bf5-b2bf-410d-b0f5-f94380438c4c",
   "metadata": {},
   "source": [
    "## <span style=\"color:brown\"> <center> Internet Speed Test GUI Application </center> </span>"
   ]
  },
  {
   "cell_type": "markdown",
   "id": "b1fdbdc3-3ae8-4934-8a98-c5d40f842a6c",
   "metadata": {},
   "source": [
    "#### Importing necessary libraries"
   ]
  },
  {
   "cell_type": "code",
   "execution_count": 1,
   "id": "3f9ac8ec-60d5-4a2e-ac2b-592aa3593115",
   "metadata": {},
   "outputs": [],
   "source": [
    "from tkinter import *              # Used for creating the graphical user interface\n",
    "import speedtest                   # Used for measuring and testing internet speed\n",
    "from PIL import Image,ImageTk      # Used for image processing and manipulation"
   ]
  },
  {
   "cell_type": "markdown",
   "id": "1563a059-3cbf-46f9-8cd5-8eb903e547a4",
   "metadata": {},
   "source": [
    "#### Creating GUI application"
   ]
  },
  {
   "cell_type": "code",
   "execution_count": 2,
   "id": "d3c2b8fd-fbf4-4fe8-a8fd-bc32aa4c57d1",
   "metadata": {},
   "outputs": [],
   "source": [
    "# Create the main application window\n",
    "win=Tk()\n",
    "win.configure(bg='white')       # Set background color to white\n",
    "win.state('zoomed')             # Set window to maximize on launch\n",
    "win.resizable(width=False,height=False)      # Disable window resizing\n",
    "\n",
    "# Create label for the main title of the application\n",
    "titlelbl=Label(win,text='Internet Speed Test',font=('arial',45,'bold'),bg='white',fg='#41140e')\n",
    "titlelbl.place(relx=0.3,rely=0.04)      # Position the title label\n",
    "\n",
    "# Load and display the image for internet speed test illustration\n",
    "com_img=Image.open('internet_5g.jpg')     # Open image file\n",
    "newsize=(750,400)          # Define new size for the image\n",
    "com_img=com_img.resize(newsize)         # Resize the image\n",
    "com_imgtk=ImageTk.PhotoImage(com_img,master=win)      # Convert image for tkinter compatibility\n",
    "\n",
    "# Create and display the image on the GUI\n",
    "com_imglbl=Label(win,image=com_imgtk,bd=0)\n",
    "com_imglbl.place(relx=.50,rely=0.23)      # Position the image on the window\n",
    "\n",
    "\n",
    "# function for check internet speed when the button is clicked\n",
    "def st():\n",
    "    network=speedtest.Speedtest(secure=True)     # Initialize speedtest object\n",
    "    download_speed=((network.download()/1024)/1024)    # Convert download speed to Mbps\n",
    "    upload_speed=((network.upload()/1024)/1024)     # Convert upload speed to Mbps\n",
    "    \n",
    "    # Round the download and upload speeds to two decimal places\n",
    "    downloadspeed_result=round(download_speed,2)\n",
    "    uploadspeed_result=round(upload_speed,2)\n",
    "    \n",
    "    # Create label to display the download speed\n",
    "    download_result_lbl=Label(win,text=downloadspeed_result,font=('arial',20,'bold'),bg='white',fg='black')\n",
    "    download_result_lbl.place(relx=0.12,rely=0.60)\n",
    "    \n",
    "    # Create label to display the upload speed\n",
    "    upload_result_lbl=Label(win,text=uploadspeed_result,font=('arial',20,'bold'),bg='white',fg='black')\n",
    "    upload_result_lbl.place(relx=0.40,rely=0.60)\n",
    "    \n",
    "\n",
    "# Create button to trigger the speed test function\n",
    "checkbtn=Button(win,text='Start Speed Test',font=('arial',20,'bold'),bg='white',fg='black',bd=7,width=30,command=st)\n",
    "checkbtn.place(relx=0.12,rely=0.33)    # Position the button\n",
    "\n",
    "# Create and position label for the download speed heading\n",
    "downloadlbl=Label(win,text='Download Speed',font=('arial',20,'bold'),bg='white',fg='black')\n",
    "downloadlbl.place(relx=0.10,rely=0.52)\n",
    "\n",
    "# Create and posiiton label for download speed units (Mbps)\n",
    "downloadmbps=Label(win,text='Mbps',font=('arial',20,'bold'),bg='white',fg='black')\n",
    "downloadmbps.place(relx=0.18,rely=0.60)\n",
    "\n",
    "# Create and position label for the upload speed heading \n",
    "uploadlbl=Label(win,text='Upload Speed',font=('airal',20,'bold'),bg='white',fg='black')\n",
    "uploadlbl.place(relx=0.40,rely=0.52)\n",
    "\n",
    "# Create and position label for upload speed units (Mbps)\n",
    "uploadmbps=Label(win,text='Mbps',font=('arial',20,'bold'),bg='white',fg='black')\n",
    "uploadmbps.place(relx=0.47,rely=0.60)\n",
    "\n",
    "# Run the main event loop to display the GUI window\n",
    "win.mainloop()"
   ]
  },
  {
   "cell_type": "code",
   "execution_count": null,
   "id": "9ac6c938-a7ca-4516-9b18-166c5d72eeae",
   "metadata": {},
   "outputs": [],
   "source": []
  }
 ],
 "metadata": {
  "kernelspec": {
   "display_name": "Python 3 (ipykernel)",
   "language": "python",
   "name": "python3"
  },
  "language_info": {
   "codemirror_mode": {
    "name": "ipython",
    "version": 3
   },
   "file_extension": ".py",
   "mimetype": "text/x-python",
   "name": "python",
   "nbconvert_exporter": "python",
   "pygments_lexer": "ipython3",
   "version": "3.12.6"
  }
 },
 "nbformat": 4,
 "nbformat_minor": 5
}
